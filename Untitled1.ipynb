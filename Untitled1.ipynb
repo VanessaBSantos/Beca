{
  "nbformat": 4,
  "nbformat_minor": 0,
  "metadata": {
    "colab": {
      "name": "Untitled1.ipynb",
      "provenance": [],
      "authorship_tag": "ABX9TyOKi7FWuDGDqPctwLZUAzyn",
      "include_colab_link": true
    },
    "kernelspec": {
      "name": "python3",
      "display_name": "Python 3"
    },
    "language_info": {
      "name": "python"
    }
  },
  "cells": [
    {
      "cell_type": "markdown",
      "metadata": {
        "id": "view-in-github",
        "colab_type": "text"
      },
      "source": [
        "<a href=\"https://colab.research.google.com/github/Felipevalera1/Beca/blob/Lenara-Guimar%C3%A3es/Untitled1.ipynb\" target=\"_parent\"><img src=\"https://colab.research.google.com/assets/colab-badge.svg\" alt=\"Open In Colab\"/></a>"
      ]
    },
    {
      "cell_type": "code",
      "execution_count": 2,
      "metadata": {
        "colab": {
          "base_uri": "https://localhost:8080/"
        },
        "id": "_W-HV-4h6n3f",
        "outputId": "b6a9ffc5-c711-4d78-96d2-21921bf7a99d"
      },
      "outputs": [
        {
          "output_type": "stream",
          "name": "stdout",
          "text": [
            "hello world\n"
          ]
        }
      ],
      "source": [
        "print(\"hello world\")"
      ]
    },
    {
      "cell_type": "code",
      "source": [
        "print(\"welcome\")"
      ],
      "metadata": {
        "colab": {
          "base_uri": "https://localhost:8080/"
        },
        "id": "mYx5r7rn62li",
        "outputId": "22739a20-c094-4ca6-b7b2-3836afa46a02"
      },
      "execution_count": 3,
      "outputs": [
        {
          "output_type": "stream",
          "name": "stdout",
          "text": [
            "welcome\n"
          ]
        }
      ]
    },
    {
      "cell_type": "code",
      "source": [
        "print(\"\")\n",
        "print(\"\")\n"
      ],
      "metadata": {
        "colab": {
          "base_uri": "https://localhost:8080/"
        },
        "id": "De4ZM9pB7e9A",
        "outputId": "492fa690-872c-43bb-c618-b4a6f14f8f0b"
      },
      "execution_count": 5,
      "outputs": [
        {
          "output_type": "stream",
          "name": "stdout",
          "text": [
            "\n",
            "\n"
          ]
        }
      ]
    },
    {
      "cell_type": "code",
      "source": [
        "num1=int(input('digite um numero'))\n",
        "cal=input('digite a operação desejada:')\n",
        "num2=int(input('digite um numero'))\n",
        "resul=0\n",
        "if cal==\"+\":\n",
        "  resul=num1+num2\n",
        "elif cal==\"-\":\n",
        "  resul=num1-num2\n",
        "elif cal==\"/\":\n",
        "  resul=num1/num2\n",
        "elif cal==\"*\":\n",
        "  resul=num1*num2\n",
        "print(\"\")\n",
        "print(\"o resultado é:\" , resul)"
      ],
      "metadata": {
        "colab": {
          "base_uri": "https://localhost:8080/"
        },
        "id": "UejiEgEn7s8E",
        "outputId": "5303788e-c9b9-42f5-d6b7-dcf95e9a51d3"
      },
      "execution_count": 26,
      "outputs": [
        {
          "output_type": "stream",
          "name": "stdout",
          "text": [
            "digite um numero4\n",
            "digite a operação desejada:+\n",
            "digite um numero8\n",
            "\n",
            "o resultado é: 12\n"
          ]
        }
      ]
    },
    {
      "cell_type": "code",
      "source": [
        ""
      ],
      "metadata": {
        "id": "6oT-aboP8Eb8"
      },
      "execution_count": 26,
      "outputs": []
    }
  ]
}