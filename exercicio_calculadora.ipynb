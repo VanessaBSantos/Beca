{
  "nbformat": 4,
  "nbformat_minor": 0,
  "metadata": {
    "colab": {
      "name": "Untitled4.ipynb",
      "provenance": [],
      "collapsed_sections": [],
      "toc_visible": true
    },
    "kernelspec": {
      "name": "python3",
      "display_name": "Python 3"
    },
    "language_info": {
      "name": "python"
    }
  },
  "cells": [
    {
      "cell_type": "code",
      "source": [
        "num1 = float(input('Digite o primeiro numero: '))\n",
        "operacao = (input('Digite a operação artimética (soma + | subtração - | multiplicação * | divisão /): '))\n",
        "num2 = float(input('Digite o segundo numero: '))\n",
        "\n",
        "\n",
        "class calculadora:\n",
        "\n",
        "  def soma(num1, num2):\n",
        "    total_soma = num1 + num2\n",
        "    return(total_soma)\n",
        "      \n",
        "  def subtracao(num1, num2):\n",
        "    total_sub = num1 - num2\n",
        "    return(total_sub)\n",
        "\n",
        "  def multiplicacao(num1, num2):\n",
        "    total_mult = num1 * num2\n",
        "    return(total_mult)\n",
        "  \n",
        "  def divisao(num1, num2):\n",
        "    total_div = num1 / num2\n",
        "    return(total_div)\n",
        "\n",
        "if operacao == '+':\n",
        "  print(f'Total da soma entre {num1} + {num2} = ', calculadora.soma(num1, num2))\n",
        "\n",
        "elif operacao == '-':\n",
        "  print(f'Total da subtração entre {num1} - {num2} = ',calculadora.subtracao(num1, num2))\n",
        "\n",
        "elif operacao == '*':\n",
        "  print(f'Total da multiplicação entre {num1} * {num2} = ',calculadora.multiplicacao(num1, num2))\n",
        "\n",
        "elif operacao == '/':\n",
        "  print(f'Total da divisão entre {num1} / {num2} = ',calculadora.divisao(num1, num2))\n",
        "\n",
        "else:\n",
        "  print('Operação inválida')"
      ],
      "metadata": {
        "id": "Yl-kf0dSes5m",
        "colab": {
          "base_uri": "https://localhost:8080/"
        },
        "outputId": "625d0a64-d6cd-4949-f59e-4df134e46b66"
      },
      "execution_count": 110,
      "outputs": [
        {
          "output_type": "stream",
          "name": "stdout",
          "text": [
            "Digite o primeiro numero: 10\n",
            "Digite a operação artimética (soma + | subtração - | multiplicação * | divisão /): +\n",
            "Digite o segundo numero: 1\n",
            "Total da soma entre 10.0 + 1.0 =  11.0\n"
          ]
        }
      ]
    },
    {
      "cell_type": "code",
      "source": [
        "2"
      ],
      "metadata": {
        "id": "BQ26ePyoo9YG"
      },
      "execution_count": null,
      "outputs": []
    }
  ]
}