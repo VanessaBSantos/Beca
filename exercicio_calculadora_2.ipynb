{
  "nbformat": 4,
  "nbformat_minor": 0,
  "metadata": {
    "colab": {
      "name": "Untitled5.ipynb",
      "provenance": []
    },
    "kernelspec": {
      "name": "python3",
      "display_name": "Python 3"
    },
    "language_info": {
      "name": "python"
    }
  },
  "cells": [
    {
      "cell_type": "code",
      "execution_count": null,
      "metadata": {
        "id": "X4ylt0Vwapzl"
      },
      "outputs": [],
      "source": [
        "num1 = float(input('Digite o primeiro numero: '))\n",
        "operacao = (input('Digite a operação artimética (soma + | subtração - | multiplicação * | divisão /): '))\n",
        "num2 = float(input('Digite o segundo numero: '))\n",
        "\n",
        "\n",
        "class calculadora:\n",
        "\n",
        "  if operacao == '+':\n",
        "    tipo_operacao = 'soma'\n",
        "    resultado = num1 + num2\n",
        "    print(f'Total da {tipo_operacao} entre {num1} + {num2} = {resultado}')\n",
        "\n",
        "  elif operacao == '-':\n",
        "    tipo_operacao = 'subtração'\n",
        "    resultado = num1 - num2 \n",
        "    print(f'Total da {tipo_operacao} entre {num1} - {num2} = {resultado}')\n",
        "\n",
        "  elif operacao == '*':\n",
        "    tipo_operacao = 'multiplicação'\n",
        "    resultado = num1 * num2\n",
        "    print(f'Total da {tipo_operacao} entre {num1} * {num2} = {resultado}')\n",
        "\n",
        "  elif operacao == '/':\n",
        "    tipo_operacao = 'divisão'\n",
        "    resultado = num1 / num2\n",
        "    print(f'Total da {tipo_operacao} entre {num1} / {num2} = {resultado}')\n",
        "    \n",
        "  else:\n",
        "    print('Operação inválida')\n",
        "\n",
        "print('')\n",
        "print('--------------------------------------------------')\n",
        "print('')\n",
        "input('Para visualizar o ultimo resultado pressione ENTER')\n",
        "print('')\n",
        "print('--------------------------------------------------')\n",
        "print('')\n",
        "print(f'Ultimo resultado salvo da calculadora {calculadora.resultado} e a operação foi {calculadora.tipo_operacao}')"
      ]
    }
  ]
}